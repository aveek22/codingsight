{
 "metadata": {
  "language_info": {
   "codemirror_mode": {
    "name": "ipython",
    "version": 3
   },
   "file_extension": ".py",
   "mimetype": "text/x-python",
   "name": "python",
   "nbconvert_exporter": "python",
   "pygments_lexer": "ipython3",
   "version": "3.9.2-final"
  },
  "orig_nbformat": 2,
  "kernelspec": {
   "name": "python392jvsc74a57bd04cd7ab41f5fca4b9b44701077e38c5ffd31fe66a6cab21e0214b68d958d0e462",
   "display_name": "Python 3.9.2 64-bit"
  },
  "metadata": {
   "interpreter": {
    "hash": "4cd7ab41f5fca4b9b44701077e38c5ffd31fe66a6cab21e0214b68d958d0e462"
   }
  }
 },
 "nbformat": 4,
 "nbformat_minor": 2,
 "cells": [
  {
   "cell_type": "code",
   "execution_count": 1,
   "metadata": {},
   "outputs": [],
   "source": [
    "# Importing the required libraries.\n",
    "import pandas as pd\n",
    "import numpy as np"
   ]
  },
  {
   "cell_type": "code",
   "execution_count": 2,
   "metadata": {},
   "outputs": [],
   "source": [
    "# Create a list of items\n",
    "list_items = ['Pandas','is','awesome']"
   ]
  },
  {
   "cell_type": "code",
   "execution_count": 3,
   "metadata": {},
   "outputs": [
    {
     "output_type": "stream",
     "name": "stdout",
     "text": [
      "         0\n0   Pandas\n1       is\n2  awesome\n"
     ]
    }
   ],
   "source": [
    "# Call the DataFrame constructor on list_items\n",
    "df = pd.DataFrame(list_items)\n",
    "print(df)"
   ]
  },
  {
   "cell_type": "code",
   "execution_count": 4,
   "metadata": {},
   "outputs": [],
   "source": [
    "# Define a dictionary of list items\n",
    "dict_items = {\n",
    "    'Student' : ['Tom','Rob','Harry'],\n",
    "    'Subject' : ['English','Physics','Statistics'],\n",
    "    'Marks' : [80,85,90]\n",
    "}"
   ]
  },
  {
   "cell_type": "code",
   "execution_count": 5,
   "metadata": {},
   "outputs": [
    {
     "output_type": "stream",
     "name": "stdout",
     "text": [
      "  Student     Subject  Marks\n0     Tom     English     80\n1     Rob     Physics     85\n2   Harry  Statistics     90\n"
     ]
    }
   ],
   "source": [
    "# Call the DataFrame constructor on dict_items\n",
    "df = pd.DataFrame(dict_items)\n",
    "print(df)"
   ]
  },
  {
   "cell_type": "code",
   "execution_count": 9,
   "metadata": {},
   "outputs": [
    {
     "output_type": "stream",
     "name": "stdout",
     "text": [
      "  Student  Marks\n0     Tom     80\n1     Rob     85\n2   Harry     90\n"
     ]
    }
   ],
   "source": [
    "print(df[['Student', 'Marks']])"
   ]
  },
  {
   "cell_type": "code",
   "execution_count": 14,
   "metadata": {},
   "outputs": [],
   "source": [
    "# Export the dataframe to a CSV file\n",
    "df.to_csv('exam.csv', index=False)"
   ]
  },
  {
   "cell_type": "code",
   "execution_count": 15,
   "metadata": {},
   "outputs": [
    {
     "output_type": "stream",
     "name": "stdout",
     "text": [
      "  Student     Subject  Marks\n0     Tom     English     80\n1     Rob     Physics     85\n2   Harry  Statistics     90\n"
     ]
    }
   ],
   "source": [
    "# Read data from a CSV and store in a DataFrame\n",
    "df_new = pd.read_csv('exam.csv')\n",
    "print(df_new)"
   ]
  },
  {
   "cell_type": "code",
   "execution_count": null,
   "metadata": {},
   "outputs": [],
   "source": []
  }
 ]
}